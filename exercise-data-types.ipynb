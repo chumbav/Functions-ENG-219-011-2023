{
 "cells": [
  {
   "cell_type": "markdown",
   "id": "0d465761",
   "metadata": {
    "papermill": {
     "duration": 0.006519,
     "end_time": "2025-02-23T16:43:24.170933",
     "exception": false,
     "start_time": "2025-02-23T16:43:24.164414",
     "status": "completed"
    },
    "tags": []
   },
   "source": [
    "**This notebook is an exercise in the [Intro to Programming](https://www.kaggle.com/learn/intro-to-programming) course.  You can reference the tutorial at [this link](https://www.kaggle.com/alexisbcook/data-types).**\n",
    "\n",
    "---\n"
   ]
  },
  {
   "cell_type": "markdown",
   "id": "0463bbc9",
   "metadata": {
    "papermill": {
     "duration": 0.00346,
     "end_time": "2025-02-23T16:43:24.179673",
     "exception": false,
     "start_time": "2025-02-23T16:43:24.176213",
     "status": "completed"
    },
    "tags": []
   },
   "source": [
    "In the tutorial, you learned about four different data types: floats, integers, strings, and booleans.  In this exercise, you'll experiment with them.\n",
    "\n",
    "# Set up the notebook\n",
    "\n",
    "Run the next code cell without changes to set up the notebook."
   ]
  },
  {
   "cell_type": "code",
   "execution_count": 1,
   "id": "d2c1972d",
   "metadata": {
    "execution": {
     "iopub.execute_input": "2025-02-23T16:43:24.194429Z",
     "iopub.status.busy": "2025-02-23T16:43:24.194069Z",
     "iopub.status.idle": "2025-02-23T16:43:25.136890Z",
     "shell.execute_reply": "2025-02-23T16:43:25.135696Z"
    },
    "papermill": {
     "duration": 0.949785,
     "end_time": "2025-02-23T16:43:25.138630",
     "exception": false,
     "start_time": "2025-02-23T16:43:24.188845",
     "status": "completed"
    },
    "tags": []
   },
   "outputs": [
    {
     "name": "stdout",
     "output_type": "stream",
     "text": [
      "Setup complete.\n"
     ]
    }
   ],
   "source": [
    "# Set up the exercise\n",
    "from learntools.core import binder\n",
    "binder.bind(globals())\n",
    "from learntools.intro_to_programming.ex3 import *\n",
    "print('Setup complete.')"
   ]
  },
  {
   "cell_type": "markdown",
   "id": "a9e4df59",
   "metadata": {
    "papermill": {
     "duration": 0.00388,
     "end_time": "2025-02-23T16:43:25.147498",
     "exception": false,
     "start_time": "2025-02-23T16:43:25.143618",
     "status": "completed"
    },
    "tags": []
   },
   "source": [
    "# Question 1\n",
    "\n",
    "You have seen how to convert a float to an integer with the `int` function.  Try this out yourself by running the code cell below."
   ]
  },
  {
   "cell_type": "code",
   "execution_count": 2,
   "id": "6ab4a838",
   "metadata": {
    "execution": {
     "iopub.execute_input": "2025-02-23T16:43:25.157193Z",
     "iopub.status.busy": "2025-02-23T16:43:25.156669Z",
     "iopub.status.idle": "2025-02-23T16:43:25.161838Z",
     "shell.execute_reply": "2025-02-23T16:43:25.160788Z"
    },
    "papermill": {
     "duration": 0.012101,
     "end_time": "2025-02-23T16:43:25.163539",
     "exception": false,
     "start_time": "2025-02-23T16:43:25.151438",
     "status": "completed"
    },
    "tags": []
   },
   "outputs": [
    {
     "name": "stdout",
     "output_type": "stream",
     "text": [
      "3.0\n",
      "<class 'float'>\n",
      "3\n",
      "<class 'int'>\n"
     ]
    }
   ],
   "source": [
    "# Define a float\n",
    "y = 3.\n",
    "print(y)\n",
    "print(type(y))\n",
    "\n",
    "# Convert float to integer with the int function\n",
    "z = int(y)\n",
    "print(z)\n",
    "print(type(z))"
   ]
  },
  {
   "cell_type": "markdown",
   "id": "3176ca3e",
   "metadata": {
    "papermill": {
     "duration": 0.00377,
     "end_time": "2025-02-23T16:43:25.171806",
     "exception": false,
     "start_time": "2025-02-23T16:43:25.168036",
     "status": "completed"
    },
    "tags": []
   },
   "source": [
    "In this case, the float you are using has no numbers after the decimal.  \n",
    "- But what happens when you try to convert a float with a fractional part to an integer?  \n",
    "- How does the outcome of the `int` function change for positive and negative numbers?\n",
    "\n",
    "Use the next code cell to investigate and answer these questions.  Feel free to add or remove any lines of code -- it is your workspace!"
   ]
  },
  {
   "cell_type": "code",
   "execution_count": 3,
   "id": "aa1999e4",
   "metadata": {
    "execution": {
     "iopub.execute_input": "2025-02-23T16:43:25.180903Z",
     "iopub.status.busy": "2025-02-23T16:43:25.180611Z",
     "iopub.status.idle": "2025-02-23T16:43:25.185827Z",
     "shell.execute_reply": "2025-02-23T16:43:25.185004Z"
    },
    "papermill": {
     "duration": 0.011055,
     "end_time": "2025-02-23T16:43:25.186906",
     "exception": false,
     "start_time": "2025-02-23T16:43:25.175851",
     "status": "completed"
    },
    "tags": []
   },
   "outputs": [
    {
     "name": "stdout",
     "output_type": "stream",
     "text": [
      "1\n",
      "1\n",
      "-3\n",
      "-2\n"
     ]
    }
   ],
   "source": [
    "# Uncomment and run this code to get started!\n",
    "print(int(1.2321))\n",
    "print(int(1.747))\n",
    "print(int(-3.94535))\n",
    "print(int(-2.19774))"
   ]
  },
  {
   "cell_type": "markdown",
   "id": "06985926",
   "metadata": {
    "papermill": {
     "duration": 0.003477,
     "end_time": "2025-02-23T16:43:25.194223",
     "exception": false,
     "start_time": "2025-02-23T16:43:25.190746",
     "status": "completed"
    },
    "tags": []
   },
   "source": [
    "Once you have an answer, run the code cell below to see the solution.  Viewing the solution will give you credit for answering the problem."
   ]
  },
  {
   "cell_type": "code",
   "execution_count": 4,
   "id": "477f410f",
   "metadata": {
    "execution": {
     "iopub.execute_input": "2025-02-23T16:43:25.202476Z",
     "iopub.status.busy": "2025-02-23T16:43:25.202214Z",
     "iopub.status.idle": "2025-02-23T16:43:25.208807Z",
     "shell.execute_reply": "2025-02-23T16:43:25.208017Z"
    },
    "papermill": {
     "duration": 0.012165,
     "end_time": "2025-02-23T16:43:25.209902",
     "exception": false,
     "start_time": "2025-02-23T16:43:25.197737",
     "status": "completed"
    },
    "tags": []
   },
   "outputs": [
    {
     "data": {
      "application/javascript": [
       "parent.postMessage({\"jupyterEvent\": \"custom.exercise_interaction\", \"data\": {\"outcomeType\": 1, \"valueTowardsCompletion\": 0.2, \"interactionType\": 1, \"questionType\": 4, \"questionId\": \"1_FloatToInt\", \"learnToolsVersion\": \"0.3.4\", \"failureMessage\": \"\", \"exceptionClass\": \"\", \"trace\": \"\"}}, \"*\")"
      ],
      "text/plain": [
       "<IPython.core.display.Javascript object>"
      ]
     },
     "metadata": {},
     "output_type": "display_data"
    },
    {
     "data": {
      "text/markdown": [
       "<span style=\"color:#33cc33\">Correct:</span> \n",
       "\n",
       "Negative floats are always rounded UP to the closest integer (for instance, both -1.1 and -1.9 are rounded up to -1). Positive floats are always rounded DOWN to the closest integer (for instance, 2.1 and 2.9 are rounded down to 2)."
      ],
      "text/plain": [
       "Correct: \n",
       "\n",
       "Negative floats are always rounded UP to the closest integer (for instance, both -1.1 and -1.9 are rounded up to -1). Positive floats are always rounded DOWN to the closest integer (for instance, 2.1 and 2.9 are rounded down to 2)."
      ]
     },
     "metadata": {},
     "output_type": "display_data"
    }
   ],
   "source": [
    "# Check your answer (Run this code cell to receive credit!)\n",
    "q1.check()"
   ]
  },
  {
   "cell_type": "markdown",
   "id": "aaea62b2",
   "metadata": {
    "papermill": {
     "duration": 0.003831,
     "end_time": "2025-02-23T16:43:25.218901",
     "exception": false,
     "start_time": "2025-02-23T16:43:25.215070",
     "status": "completed"
    },
    "tags": []
   },
   "source": [
    "# Question 2\n",
    "\n",
    "In the tutorial, you learned about booleans (which can take a value of `True` or `False`), in addition to integers, floats, and strings.  For this question, your goal is to determine what happens when you multiply a boolean by any of these data types.  Specifically, \n",
    "- What happens when you multiply an integer or float by `True`?  What happens when you multiply them by `False`?  How does the answer change if the numbers are positive or negative?\n",
    "- What happens when you multiply a string by `True`?  By `False`?\n",
    "\n",
    "Use the next code cell for your investigation. "
   ]
  },
  {
   "cell_type": "code",
   "execution_count": 5,
   "id": "c4d76c2a",
   "metadata": {
    "execution": {
     "iopub.execute_input": "2025-02-23T16:43:25.228344Z",
     "iopub.status.busy": "2025-02-23T16:43:25.228013Z",
     "iopub.status.idle": "2025-02-23T16:43:25.232541Z",
     "shell.execute_reply": "2025-02-23T16:43:25.231770Z"
    },
    "papermill": {
     "duration": 0.01138,
     "end_time": "2025-02-23T16:43:25.234360",
     "exception": false,
     "start_time": "2025-02-23T16:43:25.222980",
     "status": "completed"
    },
    "tags": []
   },
   "outputs": [
    {
     "name": "stdout",
     "output_type": "stream",
     "text": [
      "3\n",
      "-0.0\n",
      "abc\n",
      "3\n"
     ]
    }
   ],
   "source": [
    "# Uncomment and run this code to get started!\n",
    "print(3 * True)\n",
    "print(-3.1 * False)\n",
    "print(\"abc\" * True)\n",
    "print(len(\"abc\" * True))"
   ]
  },
  {
   "cell_type": "markdown",
   "id": "22f5ce44",
   "metadata": {
    "papermill": {
     "duration": 0.003882,
     "end_time": "2025-02-23T16:43:25.242843",
     "exception": false,
     "start_time": "2025-02-23T16:43:25.238961",
     "status": "completed"
    },
    "tags": []
   },
   "source": [
    "Once you have an answer, run the code cell below to see the solution.  Viewing the solution will give you credit for answering the problem."
   ]
  },
  {
   "cell_type": "code",
   "execution_count": 6,
   "id": "39a05eb4",
   "metadata": {
    "execution": {
     "iopub.execute_input": "2025-02-23T16:43:25.252080Z",
     "iopub.status.busy": "2025-02-23T16:43:25.251729Z",
     "iopub.status.idle": "2025-02-23T16:43:25.257573Z",
     "shell.execute_reply": "2025-02-23T16:43:25.256794Z"
    },
    "papermill": {
     "duration": 0.011617,
     "end_time": "2025-02-23T16:43:25.258568",
     "exception": false,
     "start_time": "2025-02-23T16:43:25.246951",
     "status": "completed"
    },
    "tags": []
   },
   "outputs": [
    {
     "data": {
      "application/javascript": [
       "parent.postMessage({\"jupyterEvent\": \"custom.exercise_interaction\", \"data\": {\"outcomeType\": 1, \"valueTowardsCompletion\": 0.2, \"interactionType\": 1, \"questionType\": 4, \"questionId\": \"2_MultiplyBooleans\", \"learnToolsVersion\": \"0.3.4\", \"failureMessage\": \"\", \"exceptionClass\": \"\", \"trace\": \"\"}}, \"*\")"
      ],
      "text/plain": [
       "<IPython.core.display.Javascript object>"
      ]
     },
     "metadata": {},
     "output_type": "display_data"
    },
    {
     "data": {
      "text/markdown": [
       "<span style=\"color:#33cc33\">Correct:</span> \n",
       "\n",
       "When you multiple an integer or float by a boolean with value `True`, it just returns that same integer or float (and is equivalent to multiplying by 1).  If you multiply an integer or float by a boolean with value `False`, it always returns 0.  This is true for both positive and negative numbers.  If you multiply a string by a boolean with value `True`, it just returns that same string.  And if you multiply a string by a boolean with value `False`, it returns an empty string (or a string with length zero)."
      ],
      "text/plain": [
       "Correct: \n",
       "\n",
       "When you multiple an integer or float by a boolean with value `True`, it just returns that same integer or float (and is equivalent to multiplying by 1).  If you multiply an integer or float by a boolean with value `False`, it always returns 0.  This is true for both positive and negative numbers.  If you multiply a string by a boolean with value `True`, it just returns that same string.  And if you multiply a string by a boolean with value `False`, it returns an empty string (or a string with length zero)."
      ]
     },
     "metadata": {},
     "output_type": "display_data"
    }
   ],
   "source": [
    "# Check your answer (Run this code cell to receive credit!)\n",
    "q2.check()"
   ]
  },
  {
   "cell_type": "markdown",
   "id": "fd27f355",
   "metadata": {
    "papermill": {
     "duration": 0.003955,
     "end_time": "2025-02-23T16:43:25.267069",
     "exception": false,
     "start_time": "2025-02-23T16:43:25.263114",
     "status": "completed"
    },
    "tags": []
   },
   "source": [
    "# Question 3\n",
    "\n",
    "In this question, you will build off your work from the previous exercise to write a function that estimates the value of a house.\n",
    "\n",
    "Use the next code cell to create a function `get_expected_cost` that takes as input three variables:\n",
    "- `beds` - number of bedrooms (data type float)\n",
    "- `baths` - number of bathrooms (data type float)\n",
    "- `has_basement` - whether or not the house has a basement (data type boolean)\n",
    "\n",
    "It should return the expected cost of a house with those characteristics. Assume that:\n",
    "- the expected cost for a house with 0 bedrooms and 0 bathrooms, and no basement is 80000, \n",
    "- each bedroom adds 30000 to the expected cost,\n",
    "- each bathroom adds 10000 to the expected cost, and\n",
    "- a basement adds 40000 to the expected cost.\n",
    "\n",
    "For instance,\n",
    "- a house with 1 bedroom, 1 bathroom, and no basement has an expected cost of 80000 + 30000 + 10000 = 120000.  This value will be calculated with `get_expected_cost(1, 1, False)`.\n",
    "- a house with 2 bedrooms, 1 bathroom, and a basement has an expected cost of 80000 + 2*30000 + 10000 + 40000 = 190000.  This value will be calculated with `get_expected_cost(2, 1, True)`.\n",
    "\n",
    "Remember you can always get a hint by uncommenting `q3.hint()` in the code cell following the next!"
   ]
  },
  {
   "cell_type": "code",
   "execution_count": 7,
   "id": "10114f2f",
   "metadata": {
    "execution": {
     "iopub.execute_input": "2025-02-23T16:43:25.276703Z",
     "iopub.status.busy": "2025-02-23T16:43:25.276407Z",
     "iopub.status.idle": "2025-02-23T16:43:25.283826Z",
     "shell.execute_reply": "2025-02-23T16:43:25.282593Z"
    },
    "papermill": {
     "duration": 0.013815,
     "end_time": "2025-02-23T16:43:25.285118",
     "exception": false,
     "start_time": "2025-02-23T16:43:25.271303",
     "status": "completed"
    },
    "tags": []
   },
   "outputs": [
    {
     "data": {
      "application/javascript": [
       "parent.postMessage({\"jupyterEvent\": \"custom.exercise_interaction\", \"data\": {\"outcomeType\": 1, \"valueTowardsCompletion\": 0.2, \"interactionType\": 1, \"questionType\": 2, \"questionId\": \"3_EstimateHouseValueBool\", \"learnToolsVersion\": \"0.3.4\", \"failureMessage\": \"\", \"exceptionClass\": \"\", \"trace\": \"\"}}, \"*\")"
      ],
      "text/plain": [
       "<IPython.core.display.Javascript object>"
      ]
     },
     "metadata": {},
     "output_type": "display_data"
    },
    {
     "data": {
      "text/markdown": [
       "<span style=\"color:#33cc33\">Correct</span>"
      ],
      "text/plain": [
       "Correct"
      ]
     },
     "metadata": {},
     "output_type": "display_data"
    }
   ],
   "source": [
    "# TODO: Complete the function\n",
    "def get_expected_cost(beds, baths, has_basement):\n",
    "    value = 80000 + beds*30000 + baths*10000 + has_basement*40000\n",
    "    return value\n",
    "\n",
    "# Check your answer \n",
    "q3.check()"
   ]
  },
  {
   "cell_type": "code",
   "execution_count": 8,
   "id": "4e48b6c9",
   "metadata": {
    "execution": {
     "iopub.execute_input": "2025-02-23T16:43:25.295619Z",
     "iopub.status.busy": "2025-02-23T16:43:25.295312Z",
     "iopub.status.idle": "2025-02-23T16:43:25.301363Z",
     "shell.execute_reply": "2025-02-23T16:43:25.300463Z"
    },
    "papermill": {
     "duration": 0.012892,
     "end_time": "2025-02-23T16:43:25.302862",
     "exception": false,
     "start_time": "2025-02-23T16:43:25.289970",
     "status": "completed"
    },
    "tags": []
   },
   "outputs": [
    {
     "data": {
      "application/javascript": [
       "parent.postMessage({\"jupyterEvent\": \"custom.exercise_interaction\", \"data\": {\"interactionType\": 2, \"questionType\": 2, \"questionId\": \"3_EstimateHouseValueBool\", \"learnToolsVersion\": \"0.3.4\", \"valueTowardsCompletion\": 0.0, \"failureMessage\": \"\", \"exceptionClass\": \"\", \"trace\": \"\", \"outcomeType\": 4}}, \"*\")"
      ],
      "text/plain": [
       "<IPython.core.display.Javascript object>"
      ]
     },
     "metadata": {},
     "output_type": "display_data"
    },
    {
     "data": {
      "text/markdown": [
       "<span style=\"color:#3366cc\">Hint:</span> The variable `has_basement` is either `True` or `False`.  What happens when you multiply it by 40000 (the value of a basement)?  Refer to the previous question if you are unsure."
      ],
      "text/plain": [
       "Hint: The variable `has_basement` is either `True` or `False`.  What happens when you multiply it by 40000 (the value of a basement)?  Refer to the previous question if you are unsure."
      ]
     },
     "metadata": {},
     "output_type": "display_data"
    }
   ],
   "source": [
    "# Uncomment to see a hint\n",
    "q3.hint()\n",
    "\n",
    "# Uncomment to view the solution\n",
    "#q3.solution()"
   ]
  },
  {
   "cell_type": "markdown",
   "id": "4f66e425",
   "metadata": {
    "papermill": {
     "duration": 0.004342,
     "end_time": "2025-02-23T16:43:25.312192",
     "exception": false,
     "start_time": "2025-02-23T16:43:25.307850",
     "status": "completed"
    },
    "tags": []
   },
   "source": [
    "# Question 4\n",
    "\n",
    "We'll continue our study of boolean arithmetic.  For this question, your task is to provide a description of what happpens when you add booleans. \n",
    "\n",
    "Use the next code cell for your investigation.  Feel free to add or remove any lines of code - use it as your workspace!"
   ]
  },
  {
   "cell_type": "code",
   "execution_count": 9,
   "id": "1c14bad5",
   "metadata": {
    "execution": {
     "iopub.execute_input": "2025-02-23T16:43:25.322030Z",
     "iopub.status.busy": "2025-02-23T16:43:25.321720Z",
     "iopub.status.idle": "2025-02-23T16:43:25.326606Z",
     "shell.execute_reply": "2025-02-23T16:43:25.325711Z"
    },
    "papermill": {
     "duration": 0.011015,
     "end_time": "2025-02-23T16:43:25.327621",
     "exception": false,
     "start_time": "2025-02-23T16:43:25.316606",
     "status": "completed"
    },
    "tags": []
   },
   "outputs": [
    {
     "name": "stdout",
     "output_type": "stream",
     "text": [
      "0\n",
      "1\n",
      "1\n",
      "2\n",
      "3\n"
     ]
    }
   ],
   "source": [
    "print(False + False)\n",
    "print(True + False)\n",
    "print(False + True)\n",
    "print(True + True)\n",
    "print(False + True + True + True)"
   ]
  },
  {
   "cell_type": "markdown",
   "id": "79dc5e6e",
   "metadata": {
    "papermill": {
     "duration": 0.004573,
     "end_time": "2025-02-23T16:43:25.337003",
     "exception": false,
     "start_time": "2025-02-23T16:43:25.332430",
     "status": "completed"
    },
    "tags": []
   },
   "source": [
    "Once you have an answer, run the code cell below to see the solution.  Viewing the solution will give you credit for answering the problem."
   ]
  },
  {
   "cell_type": "code",
   "execution_count": 10,
   "id": "17ae4581",
   "metadata": {
    "execution": {
     "iopub.execute_input": "2025-02-23T16:43:25.346834Z",
     "iopub.status.busy": "2025-02-23T16:43:25.346567Z",
     "iopub.status.idle": "2025-02-23T16:43:25.351769Z",
     "shell.execute_reply": "2025-02-23T16:43:25.351131Z"
    },
    "papermill": {
     "duration": 0.011495,
     "end_time": "2025-02-23T16:43:25.352805",
     "exception": false,
     "start_time": "2025-02-23T16:43:25.341310",
     "status": "completed"
    },
    "tags": []
   },
   "outputs": [
    {
     "data": {
      "application/javascript": [
       "parent.postMessage({\"jupyterEvent\": \"custom.exercise_interaction\", \"data\": {\"outcomeType\": 1, \"valueTowardsCompletion\": 0.2, \"interactionType\": 1, \"questionType\": 4, \"questionId\": \"4_AddingBooleans\", \"learnToolsVersion\": \"0.3.4\", \"failureMessage\": \"\", \"exceptionClass\": \"\", \"trace\": \"\"}}, \"*\")"
      ],
      "text/plain": [
       "<IPython.core.display.Javascript object>"
      ]
     },
     "metadata": {},
     "output_type": "display_data"
    },
    {
     "data": {
      "text/markdown": [
       "<span style=\"color:#33cc33\">Correct:</span> \n",
       "\n",
       "When you add booleans, adding `False` is equivalent to adding 0, and adding `True` is equivalent to adding 1."
      ],
      "text/plain": [
       "Correct: \n",
       "\n",
       "When you add booleans, adding `False` is equivalent to adding 0, and adding `True` is equivalent to adding 1."
      ]
     },
     "metadata": {},
     "output_type": "display_data"
    }
   ],
   "source": [
    "# Check your answer (Run this code cell to receive credit!)\n",
    "q4.check()"
   ]
  },
  {
   "cell_type": "markdown",
   "id": "4006b461",
   "metadata": {
    "papermill": {
     "duration": 0.004501,
     "end_time": "2025-02-23T16:43:25.362402",
     "exception": false,
     "start_time": "2025-02-23T16:43:25.357901",
     "status": "completed"
    },
    "tags": []
   },
   "source": [
    "# 🌶️ Question 5\n",
    "\n",
    "You own an online shop where you sell rings with custom engravings.  You offer both gold plated and solid gold rings.\n",
    "- Gold plated rings have a base cost of \\\\$50, and you charge \\\\$7 per engraved unit.  \n",
    "- Solid gold rings have a base cost of \\\\$100, and you charge \\\\$10 per engraved unit.\n",
    "- Spaces and punctuation are counted as engraved units.\n",
    "\n",
    "Write a function `cost_of_project()` that takes two arguments:\n",
    "- `engraving` - a Python string with the text of the engraving\n",
    "- `solid_gold` - a Boolean that indicates whether the ring is solid gold\n",
    "\n",
    "It should return the cost of the project.  This question should be fairly challenging, and you may need a hint."
   ]
  },
  {
   "cell_type": "code",
   "execution_count": 11,
   "id": "f88aa72e",
   "metadata": {
    "execution": {
     "iopub.execute_input": "2025-02-23T16:43:25.372843Z",
     "iopub.status.busy": "2025-02-23T16:43:25.372527Z",
     "iopub.status.idle": "2025-02-23T16:43:25.379815Z",
     "shell.execute_reply": "2025-02-23T16:43:25.379094Z"
    },
    "papermill": {
     "duration": 0.013905,
     "end_time": "2025-02-23T16:43:25.381035",
     "exception": false,
     "start_time": "2025-02-23T16:43:25.367130",
     "status": "completed"
    },
    "tags": []
   },
   "outputs": [
    {
     "data": {
      "application/javascript": [
       "parent.postMessage({\"jupyterEvent\": \"custom.exercise_interaction\", \"data\": {\"outcomeType\": 1, \"valueTowardsCompletion\": 0.2, \"interactionType\": 1, \"questionType\": 2, \"questionId\": \"5_CustomEngravings\", \"learnToolsVersion\": \"0.3.4\", \"failureMessage\": \"\", \"exceptionClass\": \"\", \"trace\": \"\"}}, \"*\")"
      ],
      "text/plain": [
       "<IPython.core.display.Javascript object>"
      ]
     },
     "metadata": {},
     "output_type": "display_data"
    },
    {
     "data": {
      "text/markdown": [
       "<span style=\"color:#33cc33\">Correct</span>"
      ],
      "text/plain": [
       "Correct"
      ]
     },
     "metadata": {},
     "output_type": "display_data"
    }
   ],
   "source": [
    "def cost_of_project(engraving, solid_gold):\n",
    "    engraved_units = engraving\n",
    "    cost = (solid_gold * 100 + (not solid_gold) * 50 ) + ((not solid_gold) * len(engraved_units)*7) +  (solid_gold * len(engraved_units)*10)\n",
    "    return cost\n",
    "\n",
    "# Check your answer\n",
    "q5.check()"
   ]
  },
  {
   "cell_type": "code",
   "execution_count": 12,
   "id": "f296614f",
   "metadata": {
    "execution": {
     "iopub.execute_input": "2025-02-23T16:43:25.392585Z",
     "iopub.status.busy": "2025-02-23T16:43:25.392215Z",
     "iopub.status.idle": "2025-02-23T16:43:25.395679Z",
     "shell.execute_reply": "2025-02-23T16:43:25.394805Z"
    },
    "papermill": {
     "duration": 0.010673,
     "end_time": "2025-02-23T16:43:25.397070",
     "exception": false,
     "start_time": "2025-02-23T16:43:25.386397",
     "status": "completed"
    },
    "tags": []
   },
   "outputs": [],
   "source": [
    "# Uncomment to see a hint\n",
    "#q5.hint()\n",
    "\n",
    "# Uncomment to view the solution\n",
    "#q5.solution()"
   ]
  },
  {
   "cell_type": "markdown",
   "id": "334ff84e",
   "metadata": {
    "papermill": {
     "duration": 0.004528,
     "end_time": "2025-02-23T16:43:25.407010",
     "exception": false,
     "start_time": "2025-02-23T16:43:25.402482",
     "status": "completed"
    },
    "tags": []
   },
   "source": [
    "Run the next code cell to calculate the cost of engraving `Charlie+Denver` on a solid gold ring."
   ]
  },
  {
   "cell_type": "code",
   "execution_count": 13,
   "id": "b1bd8a58",
   "metadata": {
    "execution": {
     "iopub.execute_input": "2025-02-23T16:43:25.417867Z",
     "iopub.status.busy": "2025-02-23T16:43:25.417524Z",
     "iopub.status.idle": "2025-02-23T16:43:25.421967Z",
     "shell.execute_reply": "2025-02-23T16:43:25.420852Z"
    },
    "papermill": {
     "duration": 0.011439,
     "end_time": "2025-02-23T16:43:25.423206",
     "exception": false,
     "start_time": "2025-02-23T16:43:25.411767",
     "status": "completed"
    },
    "tags": []
   },
   "outputs": [
    {
     "name": "stdout",
     "output_type": "stream",
     "text": [
      "240\n"
     ]
    }
   ],
   "source": [
    "project_one = cost_of_project(\"Charlie+Denver\", True)\n",
    "print(project_one)"
   ]
  },
  {
   "cell_type": "markdown",
   "id": "bb0286cd",
   "metadata": {
    "papermill": {
     "duration": 0.004488,
     "end_time": "2025-02-23T16:43:25.432612",
     "exception": false,
     "start_time": "2025-02-23T16:43:25.428124",
     "status": "completed"
    },
    "tags": []
   },
   "source": [
    "Use the next code cell to calculate the cost of engraving `08/10/2000` on a gold plated ring."
   ]
  },
  {
   "cell_type": "code",
   "execution_count": 14,
   "id": "adfad5d5",
   "metadata": {
    "execution": {
     "iopub.execute_input": "2025-02-23T16:43:25.444789Z",
     "iopub.status.busy": "2025-02-23T16:43:25.444470Z",
     "iopub.status.idle": "2025-02-23T16:43:25.449368Z",
     "shell.execute_reply": "2025-02-23T16:43:25.448366Z"
    },
    "papermill": {
     "duration": 0.012055,
     "end_time": "2025-02-23T16:43:25.450690",
     "exception": false,
     "start_time": "2025-02-23T16:43:25.438635",
     "status": "completed"
    },
    "tags": []
   },
   "outputs": [
    {
     "name": "stdout",
     "output_type": "stream",
     "text": [
      "120\n"
     ]
    }
   ],
   "source": [
    "project_two = cost_of_project(\"08/10/2000\", False)\n",
    "print(project_two)"
   ]
  },
  {
   "cell_type": "markdown",
   "id": "4f95ede7",
   "metadata": {
    "papermill": {
     "duration": 0.004794,
     "end_time": "2025-02-23T16:43:25.461566",
     "exception": false,
     "start_time": "2025-02-23T16:43:25.456772",
     "status": "completed"
    },
    "tags": []
   },
   "source": [
    "# Keep going\n",
    "\n",
    "Continue to the next lesson to **[learn about conditions and conditional statements](https://www.kaggle.com/alexisbcook/conditions-and-conditional-statements)**."
   ]
  },
  {
   "cell_type": "markdown",
   "id": "e1b1fef5",
   "metadata": {
    "papermill": {
     "duration": 0.004805,
     "end_time": "2025-02-23T16:43:25.471442",
     "exception": false,
     "start_time": "2025-02-23T16:43:25.466637",
     "status": "completed"
    },
    "tags": []
   },
   "source": [
    "---\n",
    "\n",
    "\n",
    "\n",
    "\n",
    "*Have questions or comments? Visit the [course discussion forum](https://www.kaggle.com/learn/intro-to-programming/discussion) to chat with other learners.*"
   ]
  }
 ],
 "metadata": {
  "kaggle": {
   "accelerator": "none",
   "dataSources": [],
   "isGpuEnabled": false,
   "isInternetEnabled": false,
   "language": "python",
   "sourceType": "notebook"
  },
  "kernelspec": {
   "display_name": "Python 3",
   "language": "python",
   "name": "python3"
  },
  "language_info": {
   "codemirror_mode": {
    "name": "ipython",
    "version": 3
   },
   "file_extension": ".py",
   "mimetype": "text/x-python",
   "name": "python",
   "nbconvert_exporter": "python",
   "pygments_lexer": "ipython3",
   "version": "3.10.12"
  },
  "papermill": {
   "default_parameters": {},
   "duration": 4.087174,
   "end_time": "2025-02-23T16:43:25.996427",
   "environment_variables": {},
   "exception": null,
   "input_path": "__notebook__.ipynb",
   "output_path": "__notebook__.ipynb",
   "parameters": {},
   "start_time": "2025-02-23T16:43:21.909253",
   "version": "2.3.3"
  }
 },
 "nbformat": 4,
 "nbformat_minor": 5
}
